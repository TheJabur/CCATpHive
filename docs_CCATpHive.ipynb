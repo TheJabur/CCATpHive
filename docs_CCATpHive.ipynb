{
 "cells": [
  {
   "cell_type": "markdown",
   "id": "f0d3a803-b9cc-4b38-b4c6-f12a1f7a5949",
   "metadata": {},
   "source": [
    "<font size=\"+3\"><center>\n",
    "    CCATpHive Documentation\n",
    "</center></font>\n",
    "\n",
    "<center><b>James Burgoyne</b></center>\n",
    "<center>jburgoyne@phas.ubc.ca</center>\n",
    "<center>May 2022</center>"
   ]
  },
  {
   "cell_type": "markdown",
   "id": "7a9265f2-d1bb-4f50-aaba-8e93b1180055",
   "metadata": {},
   "source": [
    "# Introduction"
   ]
  },
  {
   "cell_type": "markdown",
   "id": "37c16070-8c40-496c-8ce1-f5050bc63c6d",
   "metadata": {},
   "source": [
    "CCATpHive is python software to mediate communication between the control server and the parallel operating RFSoC boards which control readout operations for the CCAT Prime telescope. Development was begun in January 2022. The software's main goals are: (1) to provide interface hooks (and a terminal interface) to board functionality; (2) to integrate with a Redis server to communicate over a network between the control server and the boards; (3) to provide the main readout functionality. \n",
    "\n",
    "This document is organized as follows:"
   ]
  },
  {
   "cell_type": "markdown",
   "id": "86992c94-7003-42e2-97fd-959a3715d43a",
   "metadata": {},
   "source": [
    "## Current Status (May 2022)\n",
    "\n",
    "As of May 2022, the first two goals have been fundamentally achieved, and the focus for the future is to provide the main readout functionality."
   ]
  },
  {
   "cell_type": "markdown",
   "id": "992cc31e-d1a5-424e-9b9d-10504307a9fe",
   "metadata": {},
   "source": [
    "# File Structure"
   ]
  },
  {
   "cell_type": "markdown",
   "id": "4671c581-e9cd-43af-92ae-e7727b4d664a",
   "metadata": {},
   "source": [
    "# Usage"
   ]
  },
  {
   "cell_type": "markdown",
   "id": "e5380839-6ec6-48f1-92d2-dbec96a43964",
   "metadata": {},
   "source": [
    "## Redis Server\n",
    "A Redis server must be running for the control server and boards to communicate. The configration options (e.g. host, port, etc.) for the Redis server are in ```_cfg_board.py``` for the boards, and in ```queen.py``` for the control server. The Redis server will be hosted on the control server.\n",
    "\n",
    "Start Redis server (ampersand is optional - allows sending shutdown command in same terminal):\n",
    "```bash\n",
    "redis-server &\n",
    "```\n",
    "\n",
    "Stop Redis server:\n",
    "```bash\n",
    "redis-cli shutdown\n",
    "```"
   ]
  },
  {
   "cell_type": "markdown",
   "id": "6bffd69d-a01c-43cd-9e10-bf062165530a",
   "metadata": {},
   "source": [
    "## "
   ]
  }
 ],
 "metadata": {
  "kernelspec": {
   "display_name": "py37",
   "language": "python",
   "name": "py37"
  },
  "language_info": {
   "codemirror_mode": {
    "name": "ipython",
    "version": 3
   },
   "file_extension": ".py",
   "mimetype": "text/x-python",
   "name": "python",
   "nbconvert_exporter": "python",
   "pygments_lexer": "ipython3",
   "version": "3.7.10"
  },
  "toc-autonumbering": true
 },
 "nbformat": 4,
 "nbformat_minor": 5
}
