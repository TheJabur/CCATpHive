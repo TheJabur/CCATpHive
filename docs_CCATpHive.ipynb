{
 "cells": [
  {
   "cell_type": "markdown",
   "id": "f0d3a803-b9cc-4b38-b4c6-f12a1f7a5949",
   "metadata": {},
   "source": [
    "<font size=\"+3\"><center>\n",
    "    CCATpHive Documentation\n",
    "</center></font>\n",
    "\n",
    "<center><b>James Burgoyne</b> jburgoyne@phas.ubc.ca</center>"
   ]
  },
  {
   "cell_type": "markdown",
   "id": "7a9265f2-d1bb-4f50-aaba-8e93b1180055",
   "metadata": {},
   "source": [
    "# Introduction"
   ]
  },
  {
   "cell_type": "markdown",
   "id": "37c16070-8c40-496c-8ce1-f5050bc63c6d",
   "metadata": {},
   "source": [
    "CCATpHive is a "
   ]
  }
 ],
 "metadata": {
  "kernelspec": {
   "display_name": "py37",
   "language": "python",
   "name": "py37"
  },
  "language_info": {
   "codemirror_mode": {
    "name": "ipython",
    "version": 3
   },
   "file_extension": ".py",
   "mimetype": "text/x-python",
   "name": "python",
   "nbconvert_exporter": "python",
   "pygments_lexer": "ipython3",
   "version": "3.7.10"
  }
 },
 "nbformat": 4,
 "nbformat_minor": 5
}
