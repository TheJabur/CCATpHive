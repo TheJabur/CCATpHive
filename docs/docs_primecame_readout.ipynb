{
 "cells": [
  {
   "cell_type": "markdown",
   "id": "f0d3a803-b9cc-4b38-b4c6-f12a1f7a5949",
   "metadata": {},
   "source": [
    "<center>\n",
    "    <font size=\"+3\">primecam_readout</font><br>\n",
    "    <font size=\"+2\">Documentation</font><br>\n",
    "    <b>James Burgoyne</b><br>\n",
    "    jburgoyne@phas.ubc.ca<br>\n",
    "    <i>Last updated Oct 2023<i><br>\n",
    "</center>"
   ]
  },
  {
   "cell_type": "markdown",
   "id": "7a9265f2-d1bb-4f50-aaba-8e93b1180055",
   "metadata": {},
   "source": [
    "# Introduction  <a name=\"introduction\"></a>"
   ]
  },
  {
   "cell_type": "markdown",
   "id": "37c16070-8c40-496c-8ce1-f5050bc63c6d",
   "metadata": {},
   "source": [
    "primecam_readout is (primarily) python software to mediate communication between multiple parallel operating RFSoC boards, each running an RF network of KIDs, and their central control computer. The RFSoC boards control readout operations for many of the modules on the PrimeCam instrument on the FYST telescope in the CCAT facility/collaboration. Development was begun in January 2022. The software's main goals are to (1) control and drive the readout, in tandem with the gateware, to produce timestreams and calibration data, and (2) provide interfaces to said control. "
   ]
  },
  {
   "cell_type": "markdown",
   "id": "a011c07b-d9be-4df0-adf3-81149f24660a",
   "metadata": {},
   "source": [
    "# Environment <a name=\"environment\"></a>"
   ]
  },
  {
   "cell_type": "markdown",
   "id": "8efa5509-b561-4ebb-8960-2af1a660d64c",
   "metadata": {},
   "source": [
    "Numerous environments and software versions have been used in the development and testing including modern Mac and Linux OS, Python versions 3.4-3.11, and Redis 5.0.3.\n",
    "\n",
    "The control computer has the following software versions:\n",
    "**[TODO]**\n",
    "\n",
    "The boards run the following software versions:\n",
    "**[TODO]**"
   ]
  },
  {
   "cell_type": "markdown",
   "id": "992cc31e-d1a5-424e-9b9d-10504307a9fe",
   "metadata": {},
   "source": [
    "# File Structure <a name=\"file_structure\"></a>\n",
    "\n",
    "## File Descriptions:\n",
    "- **alcove_commands/**: Modules containing the functions to perform board tasks.\n",
    "    - **alcove_base.py**: Functions needed in other alcove command files.\n",
    "    - **analysis.py**: Data processing and analysis, primarily resonator finding code.\n",
    "    - **board_io.py**: Extends base_io.py on the boards.\n",
    "    - **board_utilities.py**: Basic board utility tools, e.g. temp.\n",
    "    - **loops.py**: Command loops, e.g. full loop.\n",
    "    - **sweeps.py**: Sweep related functionality.\n",
    "    - **test_functions.py**: Testing functions.\n",
    "    - **tones.py**: Comb related functionality.\n",
    "- **docs/**: Documentation and guides.\n",
    "- **drones/**: The board runs four drones which each have a subdirectory (drone[n], [n]={1,2,3,4}).\n",
    "    - **drone[n]/**: Configuration and data files specific to drone [n].\n",
    "        - **cal_tones/**: Directory to hold calibration tone files.\n",
    "        - **comb/**: Directory containing last comb files.\n",
    "        - **targ/**: Directory to hold target sweep files.\n",
    "        - **vna/**: Directory to hold VNA sweep files.\n",
    "        - **_cfg_drone[n].py**: Drone [n] specific configuration options.\n",
    "- **gui_assets/**: Assets that queen_gui.py uses.\n",
    "- **logs/**: Directory that contains log files.\n",
    "- **queen_commands/**: Commands which run on the control server instead of the boards.\n",
    "    - **control_io.py**: Extends base_io.py on the control computer.\n",
    "    - **test_functions**: Testing functions.\n",
    "- **tmp/**: Temporary files are dumped here. On the control computer this is primarily board returns.\n",
    "- **_cfg_board.py**: RFSoC board configuration options. Note that this needs to be manually created on each board from _cfg_board.bak.py.\n",
    "- **_cfg_queen.py**: Control server configuration options. Note that this needs to be manually created from _cfg_queen.bak.py.\n",
    "- **alcove_tui.py**: A terminal interface to alcove.py. This is used only to directly interact with alcove.py when locally on the board.\n",
    "- **alcove.py**: Provides an API to the board functionality functions (commands).\n",
    "- **base_io.py**: File management, including file histories etc.\n",
    "- **clean_board.py**: Script to delete files from tmp, log, and drone directories.\n",
    "- **drone.py**: Runs on each of the boards (4 instances) and listens for commands from the control server (via Redis). Upon receiving a command it asks alcove.py to execute it and publishes returns. Must be running to receive commands.\n",
    "- **init_multi**: Board initialization script for four channels. Must be run after bootup.\n",
    "- **init**: Deprecated. Board initialization script for single channel.\n",
    "- **queen_gui.ipynb**: Graphical interface to queen.py.\n",
    "- **queen_cli.py**: Command line interface to queen.py.\n",
    "- **queen.py**: Runs on the command server to publish commands (via Redis) to remote boards, and to listen for messages from the boards. Should be running at all times in listen mode to pick up board messages.\n",
    "- **quickDataViewer.ipynb**: A simple Jupyter notebook to inspect data in tmp/ (which are payloads from the board functions).\n",
    "- **redis_channels.py**: Information and functions on the Redis channels used by the queen and drones.\n",
    "- **startup.sh**: Script to automate startup tasks, including running init script and starting drones.\n",
    "- **timestream.py**: Timestream functions for capturing and processing. \n",
    "- **update_boards.py**: Script to run from control computer to login and update primecam_readout on each board."
   ]
  },
  {
   "cell_type": "markdown",
   "id": "e4d518b8-ed9b-43da-9515-a285a919b33c",
   "metadata": {},
   "source": [
    "# Redis Channel Structure <a name=\"channel_structure\"></a>\n",
    "\n",
    "- **all_boards**: Channel to send commands to all boards at once.\n",
    "- **board_[bid]**: Drones will listen to all channels that begin with this.\n",
    "- **board_[bid].[drid]_[cid]**: Each board has it's own command channels. A new channel is created every time a command is issued with a random cid generated string suffix. [bid] and [drid] are the board and drone identifiers respectively (contained in _cfg_board.py) and [cid] is the command identifier which is a unique id generated when the command is sent.\n",
    "- **rets_***: Boards send returns on the channel they received the command on modified with the prefix 'rets_'.\n",
    "\n",
    "**[bid]**: Board identifier (contained in _cfg_board.py).  \n",
    "**[drid]**: Drone identifier (1-4) (contained in _cfg_drone.py).  \n",
    "**[cid]**: Command identifier which is a unique id generated when the command is sent.  "
   ]
  },
  {
   "cell_type": "markdown",
   "id": "4671c581-e9cd-43af-92ae-e7727b4d664a",
   "metadata": {},
   "source": [
    "# Basic Usage <a name=\"basic_usage\"></a>\n",
    "\n",
    "**Initialization**:\n",
    "\n",
    "1. Redis server startup (on control server).  \n",
    "1. Listening Queen startup (on control server).  \n",
    "1. Run multi_init.py script on boards.\n",
    "1. Drone startup on boards: 4 drones per board.\n",
    "\n",
    "**Basic command flow**:\n",
    "\n",
    "1. Commands sent to Queen (e.g. via queen_cli.py, queen_gui.py, or the OCS agent) are communicated to redis in appropriate channels.\n",
    "1. Drones are subscribed to redis and execute commands they receive.\n",
    "1. Drones send return payloads to redis.\n",
    "1. Listening Queen receives return values and saves/logs them."
   ]
  },
  {
   "cell_type": "markdown",
   "id": "e5380839-6ec6-48f1-92d2-dbec96a43964",
   "metadata": {},
   "source": [
    "## Redis Server\n",
    "A Redis server must be running for the control server and boards to communicate. The configuration options (e.g. host, port, etc.) for the Redis server are in ```_cfg_board.py``` for the boards, and in ```_cfg_queen.py``` for the control server. The Redis server will be hosted on the control server.\n",
    "\n",
    "**Start Redis server:**\n",
    "```bash\n",
    "redis-server &\n",
    "```\n",
    "or to use a custom redis configuration file (to specify IP address and port, for example):\n",
    "```bash\n",
    "redis-server /usr/local/etc/redis.conf\n",
    "```\n",
    "\n",
    "**Stop Redis server:**  \n",
    "CTRL-c from the terminal that started the redis server (unless it was started in the background using, e.g. using an ampersand after the start command).  \n",
    "From an alternate terminal:\n",
    "```bash\n",
    "redis-cli shutdown\n",
    "```"
   ]
  },
  {
   "cell_type": "markdown",
   "id": "18101a12-0701-4273-882b-18df29bd082c",
   "metadata": {},
   "source": [
    "<figure>\n",
    "  <img src=\"redis_startup.png\" alt=\"Redis startup in the terminal.\"/>\n",
    "  <figcaption>Redis server startup from a terminal. Note that if the ampersand wasn't addended, another terminal would be needed to shutdown the server.</figcaption>\n",
    "</figure>"
   ]
  },
  {
   "cell_type": "markdown",
   "id": "6bffd69d-a01c-43cd-9e10-bf062165530a",
   "metadata": {},
   "source": [
    "## Drone\n",
    "\n",
    "Each board runs 4 drones (drone.py) in parallel (with configuration and data separated into 4 subdirectories), each operating a separate 512 MHz bandwidth microwave network (divided into 1000 channels). Each drone operates in a 'listening' mode in order to implement commands received from the queen over redis. The drones must be running at all times, and should be started at board startup, and up-status monitored via a daemon.\n",
    "\n",
    "To start a single instance of drone.py with drone identifier of drid=1 (in listening mode):\n",
    "```\n",
    "python drone.py 1\n",
    "```"
   ]
  },
  {
   "cell_type": "markdown",
   "id": "78ab51fc-a9b7-4b2a-ac44-b0ef156c2b6d",
   "metadata": {},
   "source": [
    "## Interfaces\n",
    "\n",
    "Queen (queen.py) can be interacted with from different user-interfaces. These interfaces are the OCS agent, a CLI, and a GUI."
   ]
  },
  {
   "cell_type": "markdown",
   "id": "9cd87ae7-6a10-470c-8702-30fe4dcbad76",
   "metadata": {},
   "source": [
    "## CLI\n",
    "Command line interface to queen.py."
   ]
  },
  {
   "cell_type": "markdown",
   "id": "49b14b31-bdd8-4ac2-8b92-bcd4d4b71b67",
   "metadata": {},
   "source": [
    "### Help\n",
    "\n",
    "To get **help** with queen_tui and to see a list of all possible commands:\n",
    "```\n",
    "python queen_cli.py -h\n",
    "```"
   ]
  },
  {
   "cell_type": "markdown",
   "id": "b0f331b2-97c8-4665-81bf-10928445e60e",
   "metadata": {
    "tags": []
   },
   "source": [
    "### Commands"
   ]
  },
  {
   "cell_type": "markdown",
   "id": "f4fc5f93-9f4a-4505-a795-aae0991710c7",
   "metadata": {},
   "source": [
    "#### Command Number\n",
    "\n",
    "All commands have an associated command number which is given as the first required positional argument. For example, to send the command with command number 1 (to all drones):  \n",
    "```\n",
    "python queen_cli.py 1\n",
    "```"
   ]
  },
  {
   "cell_type": "markdown",
   "id": "27f3dba0-4843-40ae-b77f-6669a61a6e7f",
   "metadata": {},
   "source": [
    "#### Command Recipient\n",
    "\n",
    "A command can be for all drones, a specific board, a specific drone, or queen itself. If no recipient for a command is specified, it is assumed to be for all drones on all boards. \n",
    "\n",
    "To specify a command for a specific board or drone, use the second positional argument. The format is ```[bid]``` or ```[bid].[drid]```. For example, to send the command 1 to drone 3 on board 2:  \n",
    "```\n",
    "python queen_cli.py 1 2.3\n",
    "```\n",
    "\n",
    "To specify a command is for queen itself use the ```-q``` or ```--queen``` argument."
   ]
  },
  {
   "cell_type": "markdown",
   "id": "1e8c1043-e976-4259-9ef2-65876a813eb6",
   "metadata": {},
   "source": [
    "#### Command Returns\n",
    "\n",
    "When a command is sent to a single drone, queen will output the return data. The form of the output data depends on it's type:\n",
    "- **string**: The string is printed to the terminal. \n",
    "- **Numpy array**: The data is saved to a _.npy_ file in _tmp/_. This can be loaded using ```np.load()```.\n",
    "- **Other types**: The data is written to an extensionless file in _tmp/_. This can be loaded using ```pickle.loads()```.\n",
    "\n",
    "When a command is sent to multiple drones, the queen script used to send the command doesn't attempt to intercept the return. Instead, if an instance of queen is operating in listen mode, it will intercept all returns and save them to the _tmp/_ folder, as per the above scheme."
   ]
  },
  {
   "cell_type": "markdown",
   "id": "a4650e0a-86ed-4ff3-98c1-dbb322b9f4a6",
   "metadata": {},
   "source": [
    "## GUI\n",
    "The graphical interface to queen.py has the following features:\n",
    "- Start/stop queen listening mode.\n",
    "- Start/stop and capture a timestream from a select KID, and display in power or phase, with an adjustable range (packets/time).\n",
    "- Send alcove commands with arguments to select boards or all boards.\n",
    "- Display console output.\n",
    "- Display drone status'.\n",
    "- Display last return S21 data."
   ]
  },
  {
   "cell_type": "markdown",
   "id": "8a5b588e-9519-4f91-a222-770c5bb32389",
   "metadata": {},
   "source": [
    "<figure>\n",
    "  <img src=\"gui.png\" alt=\"queen_gui.py\"/>\n",
    "  <figcaption>The graphical user interface (GUI) queen_gui.py for interfacing with queen.py.</figcaption>\n",
    "</figure>"
   ]
  },
  {
   "cell_type": "markdown",
   "id": "eedc686b-58b9-4333-8c55-4bf093c7884a",
   "metadata": {},
   "source": [
    "# Queen Commands <a name=\"queen_commands\"></a>"
   ]
  },
  {
   "cell_type": "markdown",
   "id": "4aa62c0d-be52-41a8-b3e3-ae8fb2e55509",
   "metadata": {},
   "source": [
    "## Listen Mode\n",
    "\n",
    "An instance of queen (queen.py) should be running in 'listen' mode at all times to process board messages. \n",
    "To start a single instance of queen.py in **listen mode**:\n",
    "```\n",
    "python queen_cli.py 2 -q\n",
    "```"
   ]
  },
  {
   "cell_type": "markdown",
   "id": "7fa2a203-c232-4636-ab0f-8328c3316cf8",
   "metadata": {},
   "source": [
    "# Board Commands <a name=\"board_commands\"></a>\n",
    "Commands are:\n",
    "- 20:alcove_base.setNCLO,\n",
    "- 21:alcove_base.setFineNCLO,\n",
    "- 25:alcove_base.getSnapData,\n",
    "- 30:tones.writeTestTone,\n",
    "- 31:tones.writeNewVnaComb,\n",
    "- 32:tones.writeTargCombFromVnaSweep,\n",
    "- 33:tones.writeTargCombFromTargSweep,\n",
    "- 34:tones.writeCombFromCustomList,\n",
    "- 35:tones.createCustomCombFilesFromCurrentComb,\n",
    "- 36:tones.modifyCustomCombAmps,\n",
    "- 40:sweeps.vnaSweep,\n",
    "- 42:sweeps.targetSweep,\n",
    "- 50:analysis.findVnaResonators,\n",
    "- 51:analysis.findTargResonators,\n",
    "- 55:analysis.findCalTones,"
   ]
  },
  {
   "cell_type": "markdown",
   "id": "b3d21cf3-3aa6-475b-89ce-80cb71eb45ef",
   "metadata": {},
   "source": [
    "# Example Usage \n",
    "\n",
    "A standard usage scenario might proceed as follows.  \n",
    "Using the CLI.  \n",
    "Sending commands to all active drones.  \n",
    "\n",
    "Set the LO frequency (at the center of expected KID resonance frequencies)\n",
    "```\n",
    "python queen_cli.py 20\n",
    "\n",
    "```\n",
    "\n",
    "then perform a VNA sweep (covers all bandwidth) by first writing an appropriate comb, performing the sweep, and processing to find a rough location for the resonators\n",
    "```\n",
    "python queen_cli.py 31\n",
    "python queen_cli.py 40\n",
    "python queen_cli.py 50\n",
    "```\n",
    "\n",
    "From the rough resonator locations, perform a targetted sweep to fine tune resonator frequencies. First build the target comb from the frequencies found by the VNA sweep, then run the target sweep, then find the resonators\n",
    "```\n",
    "python queen_cli.py 32\n",
    "python queen_cli.py 42\n",
    "python queen_cli.py 51\n",
    "```\n",
    "\n",
    "Now set the comb from these refined resonator frequencies\n",
    "```\n",
    "python queen_cli.py 33\n",
    "```\n",
    "\n",
    "At this point timestreams from the resonators should be broadcasting on the UDP network."
   ]
  },
  {
   "cell_type": "markdown",
   "id": "d986467f-db6f-4f65-8e8d-16b8c4c5e696",
   "metadata": {},
   "source": [
    "# Changelog"
   ]
  },
  {
   "cell_type": "markdown",
   "id": "1fdffa10-aafb-4788-aea3-c168bb86729b",
   "metadata": {},
   "source": [
    "## June 2022\n",
    "\n",
    "**Update**: As of June 2022, a basic working version was complete including the ability to send commands from the control server to the boards via Redis and receive a return string, logging, basic configuration, and module integration to allow for board functionality. \n",
    "\n",
    "- Initial creation."
   ]
  },
  {
   "cell_type": "markdown",
   "id": "d671486b-9b5b-4aea-82d3-5ac3922016f5",
   "metadata": {},
   "source": [
    "## August 2022\n",
    "\n",
    "**Update**: In July and August additional functionality was integrated in to provide command arguments, return payloads, separation of the board into 4 drones (each controlling an RF network), key/value pairs, and a proof of concept GUI. "
   ]
  },
  {
   "cell_type": "markdown",
   "id": "b3dfb67e-4850-46cb-8681-a78c6dc30a10",
   "metadata": {},
   "source": [
    "## September 2022\n",
    "\n",
    "**Update**: As of September 1st, the single channel module (single_chan) has rudimentary versions of the following functions: writeVnaComb, writeTestTone, getAdcData, getSnapData, vnaSweep, findResonators."
   ]
  },
  {
   "cell_type": "markdown",
   "id": "58e63ffe-2c93-467c-9f0a-1bfa041645a7",
   "metadata": {},
   "source": [
    "## December 2022\n",
    "\n",
    "**Update**: multi_chan was added to control all 4 RF networks."
   ]
  },
  {
   "cell_type": "markdown",
   "id": "c3012696-f181-4a8a-869f-f3352dff6924",
   "metadata": {},
   "source": [
    "## May 2023\n",
    "\n",
    "**Update**: The big change recently has been the addition of the GUI written in PyQt.The GUI has also incorporated a new and important feature for testing: Live time stream viewing and capturing. There is a known bug in (only?) the GUI which causes segmentation fault 11 frequently which is proving challenging to track down.\n",
    "\n",
    "- Added Changelog.\n",
    "- Removed date in title cell.\n",
    "- Changed references to CCAT-Prime to CCAT/FYST.\n",
    "- Rewrote the Introduction main goals.\n",
    "- Updated the Environment section.\n",
    "- Update the File Structure and Channel Structure sections.\n",
    "- Update Basic Usage::Initialization to switch init.py -> multi_init.py and removed some wording.\n",
    "- Updated Basic Usage::Basic command flow to add queen_gui.py to possible interfaces in step 1.\n",
    "- Updated Basic Usage::Redis Server to change that queen Redis config options are in _cfg_queen.py instead of queen.py.\n",
    "- Created a generic Interfaces section and update TUI section title from 'Queen (TUI)' to 'TUI'.\n",
    "- Added a GUI section with a screenshot and feature list.\n",
    "- Modified Queen Commands::Listen Mode command example to use the correct command number (21 -> 2).\n",
    "- Filled in the current active commands in Board Commands section."
   ]
  },
  {
   "cell_type": "markdown",
   "id": "bbdb42c4-79f0-456c-a482-9e74a93d8bd0",
   "metadata": {},
   "source": [
    "## October 2023\n",
    "**Update**: The software has been fleshed out since the last update, and testing on various crystats has allowed us to refine it to be more usable. Various new utilities have been added including startup and cleanup scripts.\n",
    "\n",
    "- Modified title section.\n",
    "- Changed references to the project title from CCATpHive to primecame_readout.\n",
    "- Changed references from queen_tui.py to queen_cli.py.\n",
    "- Various wording changes here and there.\n",
    "- Updated the GUI screenshot.\n",
    "- Updated 3. File Structure for current status.\n",
    "- Updated 7. Board Commands.\n",
    "- Added 8. Example Usage section."
   ]
  },
  {
   "cell_type": "code",
   "execution_count": null,
   "id": "3f57565d-deff-4950-81df-127a766fe32e",
   "metadata": {},
   "outputs": [],
   "source": []
  }
 ],
 "metadata": {
  "kernelspec": {
   "display_name": "py37",
   "language": "python",
   "name": "py37"
  },
  "language_info": {
   "codemirror_mode": {
    "name": "ipython",
    "version": 3
   },
   "file_extension": ".py",
   "mimetype": "text/x-python",
   "name": "python",
   "nbconvert_exporter": "python",
   "pygments_lexer": "ipython3",
   "version": "3.7.12"
  },
  "toc-autonumbering": true
 },
 "nbformat": 4,
 "nbformat_minor": 5
}
