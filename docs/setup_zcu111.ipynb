{
 "cells": [
  {
   "cell_type": "markdown",
   "id": "1d084ea3-b98d-4b7d-b371-90cb56e67dca",
   "metadata": {},
   "source": [
    "<font size=\"+3\"><center>\n",
    "    CCATp Zilinx zcu111 RFSoC Initial Setup Procedure\n",
    "</center></font>\n",
    "\n",
    "<center><b>James Burgoyne</b></center>\n",
    "<center>jburgoyne@phas.ubc.ca</center>\n",
    "<center>August 2022</center>"
   ]
  },
  {
   "cell_type": "markdown",
   "id": "5af143ea-439a-41d8-ae7a-91d5c3fcc569",
   "metadata": {},
   "source": [
    "**Development system:**\n",
    "- Mac OS 12.5 on a Macbook Pro early 2015.\n",
    "- Python 3.7.11"
   ]
  },
  {
   "cell_type": "markdown",
   "id": "067ebca3-7f01-453e-957e-0812baf5a4c8",
   "metadata": {},
   "source": [
    "# SD Card Image\n",
    "\n",
    "The board is being run off of a micro SD card.  \n",
    "The image for the micro SD card can be downloaded from: http://www.pynq.io/board.html/  \n",
    "We are using version 2.7.  \n",
    "Instructions for writing the image: https://pynq.readthedocs.io/en/latest/appendix/sdcard.html  \n",
    "To write the image to the card you'll need a card reader.  \n",
    "Launch Disk Utility and note the disk number of the card (in my case disk2).  \n",
    "From Disk Utility unmount (not eject) the card.  \n",
    "Image the card:  \n",
    "`sudo dd bs=1m if=zcu111_v2.7.0.img of=/dev/rdisk2`  \n",
    "It takes about 10 minutes to finish."
   ]
  },
  {
   "cell_type": "markdown",
   "id": "d1beea07-0a28-47d6-ad89-d3c8d950406e",
   "metadata": {},
   "source": [
    "# Board Interface\n",
    "\n",
    "Interface connection: Ethernet via USB.  \n",
    "Using Plugable USB-C to ethernet adapter: https://plugable.com/products/usbc-e2500  \n",
    "This adapter allows for jumbo frames.\n",
    "\n",
    "The adapter was given a manual IP4 address of 192.168.2.80 on the development system (Network Preferences -> USB 10/100/1G/2.5G LAN -> Configure IPv4: Manually -> IP Adress: 192.168.2.80, Subnet Mask: 255.255.255.0\n",
    "\n",
    "The 2x2 board ethernet connection lives at 192.168.2.99 and can be accessed through SSH or Jupyter with:  \n",
    "**username: xilinx   \n",
    "password: xilinx**"
   ]
  },
  {
   "cell_type": "markdown",
   "id": "40cfdd8c-78c4-4839-a1d0-cc08662ad879",
   "metadata": {},
   "source": [
    "# Redis\n",
    "\n",
    "The Redis server on the development system is version 5.0.3.  \n",
    "The redis.conf file was edited to change the IP binding: bind 192.168.2.80  \n",
    "\n",
    "The 2x2 board did not have Redis installed in the default 2.7 image. \n",
    "Version 5.0.14 (the lastest 5.x version) was downloaded from: https://redis.io/download/#redis-downloads  \n",
    "It was copied to the 2x2:  \n",
    "`scp redis-5.0.14.tar.gz xilinx@192.168.2.99:/home/xilinx/`  \n",
    "The 2x2 is SSH accessed via:  \n",
    "`ssh xilinx@192.168.2.99`  \n",
    "Unpack the tar.gz file:  \n",
    "`tar -xvf redis-5.0.14.tar.gz`  \n",
    "switch to the new directory:  \n",
    "`cd redis-5.0.14`  \n",
    "and install Redis with:  \n",
    "`make` (should take about 5-10 minutes)  \n",
    "and then  \n",
    "`sudo make install`  \n",
    "Check:  \n",
    "`redis-server --version`"
   ]
  },
  {
   "cell_type": "markdown",
   "id": "6319a9f3-a4a9-459f-bfdb-55431dcac5c5",
   "metadata": {},
   "source": [
    "# Redis-py\n",
    "\n",
    "The Redis python module is also necessary.  \n",
    "https://pypi.org/project/redis/  \n",
    "On the development system:  \n",
    "`scp redis-4.3.3.tar.gz xilinx@192.168.2.99:/home/xilinx`  \n",
    "and then on the 2x2:  \n",
    "`tar -xvf redis-4.3.3.tar.gz`  \n",
    "`cd redis-4.3.3/`  \n",
    "`sudo python setup.py install`  \n",
    "Note the final return message:  \n",
    "_error: Could not find suitable distribution for Requirement.parse('packaging>=20.4')_  \n",
    "This may have to be dealt with at some point, but things seem to work without it."
   ]
  },
  {
   "cell_type": "markdown",
   "id": "408772b7-a169-4d65-abd9-f2b9ca407f6a",
   "metadata": {},
   "source": [
    "# Hive\n",
    "\n",
    "The CCATpHive software was installed on the 2x2:  \n",
    "On the development system, zip up the CCATpHive folder:  \n",
    "`tar -czf CCATpHive.tgz CCATpHive`  \n",
    "and copy to the 2x2:  \n",
    "`scp CCATpHive.tgz xilinx@192.168.2.99:/home/xilinx/CCATpHive.tgz`  \n",
    "then switch to the 2x2:  \n",
    "`ssh xilinx@192.168.2.99`    \n",
    "and unpack it:  \n",
    "`tar -xvf CCATpHive.tgz`  \n",
    "A few unecessary files were deleted:  \n",
    "`cd CCATpHive`  \n",
    "`rm -r __pycache__`  \n",
    "`rm dump.rdb`  \n",
    "`rm tmp/*`  \n",
    "`rm logs/*`  \n",
    "Finally, the config file was modified:  \n",
    "`nano _cfg_board.py`  \n",
    "and the host changed to '192.168.2.80' (ctrl-o to save, ctrl-x to quit).  \n",
    "Back on the development system:  \n",
    "_cfg_queen.py was modified and the host changed to 192.168.2.80.  "
   ]
  },
  {
   "cell_type": "code",
   "execution_count": null,
   "id": "8ed22837-4aa6-4acf-81e8-4f8ae13dd7d1",
   "metadata": {},
   "outputs": [],
   "source": []
  }
 ],
 "metadata": {
  "kernelspec": {
   "display_name": "py37",
   "language": "python",
   "name": "py37"
  },
  "language_info": {
   "codemirror_mode": {
    "name": "ipython",
    "version": 3
   },
   "file_extension": ".py",
   "mimetype": "text/x-python",
   "name": "python",
   "nbconvert_exporter": "python",
   "pygments_lexer": "ipython3",
   "version": "3.7.10"
  }
 },
 "nbformat": 4,
 "nbformat_minor": 5
}
