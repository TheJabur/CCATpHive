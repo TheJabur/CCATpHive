{
 "cells": [
  {
   "cell_type": "markdown",
   "id": "f0d3a803-b9cc-4b38-b4c6-f12a1f7a5949",
   "metadata": {},
   "source": [
    "<font size=\"+3\"><center>\n",
    "    CCATpHive Documentation\n",
    "</center></font>\n",
    "\n",
    "<center><b>James Burgoyne</b></center>\n",
    "<center>jburgoyne@phas.ubc.ca</center>\n",
    "<center>May 2022</center>"
   ]
  },
  {
   "cell_type": "markdown",
   "id": "7a9265f2-d1bb-4f50-aaba-8e93b1180055",
   "metadata": {},
   "source": [
    "# Introduction"
   ]
  },
  {
   "cell_type": "markdown",
   "id": "37c16070-8c40-496c-8ce1-f5050bc63c6d",
   "metadata": {},
   "source": [
    "CCATpHive is python software to mediate communication between the control server and the parallel operating RFSoC boards which control readout operations for the CCAT Prime telescope. Development was begun in January 2022. The software's main goals are: (1) to provide interface hooks (and a terminal interface) to board functionality; (2) to integrate with a Redis server to communicate over a network between the control server and the boards; (3) to provide control of the main readout functionality scripts. \n",
    "\n",
    "This document is organized as follows:"
   ]
  },
  {
   "cell_type": "markdown",
   "id": "86992c94-7003-42e2-97fd-959a3715d43a",
   "metadata": {},
   "source": [
    "## Current Status (June 2022)\n",
    "\n",
    "As of June 2022, a basic working version which accomplishes the 3 goals is complete. Future work will focus on bug-fixes and improvements."
   ]
  },
  {
   "cell_type": "markdown",
   "id": "a011c07b-d9be-4df0-adf3-81149f24660a",
   "metadata": {},
   "source": [
    "# Environment"
   ]
  },
  {
   "cell_type": "markdown",
   "id": "8efa5509-b561-4ebb-8960-2af1a660d64c",
   "metadata": {},
   "source": [
    "## Python\n",
    "\n",
    "For development and testing, python 3.7 was used."
   ]
  },
  {
   "cell_type": "markdown",
   "id": "992cc31e-d1a5-424e-9b9d-10504307a9fe",
   "metadata": {},
   "source": [
    "# File Structure\n",
    "\n",
    "- **_cfg_board.py**: Board configuration options.\n",
    "- **queen.py**: Runs on the command server to publish commands to remote boards, and to listen for messages from the boards. Should be running at all times in listen mode to pick up board messages.\n",
    "- **queen_tui.py**: A terminal interface to queen.py.\n",
    "- **drone.py**: Runs on each of the boards (4 instances) and listens for commands. Upon receiving a command it asks alcove.py to execute it and publishes any necessary messages, e.g. the return statement. Should be running at all times to hear commands.\n",
    "- **alcove.py**: Mediator to the board functionality functions (commands).\n",
    "- **alcove_tui.py**: A terminal interface to alcove.py.\n",
    "- **/alcove_commands**: Modules containing the functions to perform board tasks.\n",
    "    - **board_utilities.py**: Basic board utility tools.\n",
    "    - **test_functions.py**: Testing functions.\n",
    "- **/queen_commands**: Modules containing the functions to perform server tasks.\n",
    "    - **test_functions**: Testing functions."
   ]
  },
  {
   "cell_type": "markdown",
   "id": "e4d518b8-ed9b-43da-9515-a285a919b33c",
   "metadata": {},
   "source": [
    "# Redis Channel Structure"
   ]
  },
  {
   "cell_type": "markdown",
   "id": "4671c581-e9cd-43af-92ae-e7727b4d664a",
   "metadata": {},
   "source": [
    "# Usage\n",
    "\n",
    "Basic command flow is as follows: \n",
    "1. Redis server startup (on control server).\n",
    "1. Listening Queen startup (on control server).\n",
    "1. Drones startup (on boards - multiple drones per board, multiple boards).\n",
    "1. Commands sent to Queen (e.g. via queen_tui.py) are communicated to redis in appropriate channels. Drones are subscribed to redis and execute commands they receive on their channels."
   ]
  },
  {
   "cell_type": "markdown",
   "id": "e5380839-6ec6-48f1-92d2-dbec96a43964",
   "metadata": {},
   "source": [
    "## Redis Server\n",
    "A Redis server must be running for the control server and boards to communicate. The configration options (e.g. host, port, etc.) for the Redis server are in ```_cfg_board.py``` for the boards, and in ```queen.py``` for the control server. The Redis server will be hosted on the control server.\n",
    "\n",
    "Start Redis server (ampersand is optional - allows sending shutdown command in same terminal):\n",
    "```bash\n",
    "redis-server &\n",
    "```\n",
    "\n",
    "Stop Redis server:\n",
    "```bash\n",
    "redis-cli shutdown\n",
    "```"
   ]
  },
  {
   "cell_type": "markdown",
   "id": "18101a12-0701-4273-882b-18df29bd082c",
   "metadata": {},
   "source": [
    "<figure>\n",
    "  <img src=\"redis_startup.png\" alt=\"Redis startup in the terminal.\"/>\n",
    "  <figcaption>Redis server startup from a terminal. Note that if the ampersand wasn't addended, another terminal would be needed to shutdown the server.</figcaption>\n",
    "</figure>"
   ]
  },
  {
   "cell_type": "markdown",
   "id": "6bffd69d-a01c-43cd-9e10-bf062165530a",
   "metadata": {},
   "source": [
    "## Drone\n",
    "\n",
    "Each board runs 4 drones (drone.py) in parallel (separated into 4 subdirectories), each operating a separate 512 MHz bandwidth microwave network (divided into 1000 channels). Each drone operates in a 'listening' mode in order to implement commands received from the queen over redis. The drones must be running at all times, and should be started at board startup, and up-status monitored via a daemon.\n",
    "\n",
    "To start a single instance of drone.py (in listening mode):\n",
    "```bash\n",
    "python drone.py\n",
    "```"
   ]
  },
  {
   "cell_type": "markdown",
   "id": "9cd87ae7-6a10-470c-8702-30fe4dcbad76",
   "metadata": {},
   "source": [
    "## Queen (TUI)\n",
    "\n",
    "Queen (queen.py) can potentially be interacted with from different user-interfaces, but at time-of-writing the only interface is a terminal-user-interface (queen_tui.py)."
   ]
  },
  {
   "cell_type": "markdown",
   "id": "49b14b31-bdd8-4ac2-8b92-bcd4d4b71b67",
   "metadata": {},
   "source": [
    "### Help\n",
    "\n",
    "To get **help** with queen_tui:\n",
    "```bash\n",
    "python queen_tui.py -h\n",
    "```"
   ]
  },
  {
   "cell_type": "markdown",
   "id": "b0f331b2-97c8-4665-81bf-10928445e60e",
   "metadata": {
    "tags": []
   },
   "source": [
    "### Commands\n",
    "\n",
    "All commands have an associated command number which is given as an argument.\n",
    "\n",
    "To see a list of possible **commands**:\n",
    "```bash\n",
    "python queen_tui.py --commands\n",
    "```\n",
    "\n",
    "The **recipient** of a command sent to queen_tui must be explicitly declared as an argument. \n",
    "- ```--queen```: Command for queen itself.\n",
    "- ```--all```: Command for all boards.\n",
    "- ```--bid [bid]```: Command for board with board-identifier (bid) of [bid], where [bid] is an integer. Board identifiers are set in *_cfg_board.py* within each of the 4 drone subdirectories.\n",
    "\n",
    "The command number is declared with the argument ```-c [cid]``` where [cid] is the integer command number."
   ]
  },
  {
   "cell_type": "markdown",
   "id": "e249c101-d4e6-4036-bd5f-89218fde1a9a",
   "metadata": {},
   "source": [
    "### Listen Mode\n",
    "\n",
    "An instance of queen (queen.py) should be running in 'listen' mode at all times to process board messages. \n",
    "To start a single instance of queen.py in **listen mode**:\n",
    "```bash\n",
    "python queen_tui.py --queen -c 21\n",
    "```"
   ]
  },
  {
   "cell_type": "code",
   "execution_count": null,
   "id": "31da3c89-d285-41bb-b37d-d265b9511f88",
   "metadata": {},
   "outputs": [],
   "source": []
  }
 ],
 "metadata": {
  "kernelspec": {
   "display_name": "py37",
   "language": "python",
   "name": "py37"
  },
  "language_info": {
   "codemirror_mode": {
    "name": "ipython",
    "version": 3
   },
   "file_extension": ".py",
   "mimetype": "text/x-python",
   "name": "python",
   "nbconvert_exporter": "python",
   "pygments_lexer": "ipython3",
   "version": "3.7.10"
  },
  "toc-autonumbering": true
 },
 "nbformat": 4,
 "nbformat_minor": 5
}
