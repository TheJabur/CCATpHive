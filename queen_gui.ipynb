{
 "cells": [
  {
   "cell_type": "markdown",
   "id": "0bd9b670-5b80-4a4d-8825-6c3ba4ab8851",
   "metadata": {},
   "source": [
    "<font size=\"+3\"><center>\n",
    "    CCATpHive Queen GUI Proof of Concept\n",
    "</center></font>\n",
    "\n",
    "<center><b>James Burgoyne</b></center>\n",
    "<center>jburgoyne@phas.ubc.ca</center>\n",
    "<center>August 2022</center>"
   ]
  },
  {
   "cell_type": "code",
   "execution_count": 18,
   "id": "87d99158-0ba9-43bf-8c88-2c5a588a8254",
   "metadata": {},
   "outputs": [],
   "source": [
    "# note that changes to modules require a kernel restart to take effect\n",
    "\n",
    "import ipywidgets as widgets\n",
    "from IPython.display import display\n",
    "\n",
    "import queen\n",
    "import alcove"
   ]
  },
  {
   "cell_type": "markdown",
   "id": "2cd634ac-4554-45e1-87b0-2ae3a7d72ed3",
   "metadata": {},
   "source": [
    "# Queen Interface"
   ]
  },
  {
   "cell_type": "code",
   "execution_count": 2,
   "id": "5f0185f0-248c-487a-ad35-473d50cdebb6",
   "metadata": {},
   "outputs": [],
   "source": [
    "def printCom():\n",
    "    '''print available commands (from queen.py)'''\n",
    "\n",
    "    print(50*\"=\")\n",
    "    print(\"queen commands available (command : name):\")\n",
    "    for key in queen.com.keys():\n",
    "        print(f\"{key} : {queen.com[key].__name__}\")\n",
    "    print(\"\")\n",
    "    print(\"alcove commands available (command : name):\")\n",
    "    for key in alcove.com.keys():\n",
    "        print(f\"{key} : {alcove.com[key].__name__}\")\n",
    "    print(50*\"=\")\n",
    "\n",
    "def processCommand(com_num, bid=False, all_boards=False, queen_com=False, args=None):\n",
    "    '''Process a command for either: a single bid, all boards, or queen.\n",
    "    com_num: (int) Command number.\n",
    "    args:    (str) Command arguments.'''\n",
    "\n",
    "    if not com_num:  # no command given\n",
    "        print(f\"A command number (com_num) is required.\")\n",
    "    \n",
    "    elif queen_com:      # a queen command\n",
    "        queen.callCom(com_num, args=args)\n",
    "        \n",
    "    elif bid:        # a single board command\n",
    "        queen.alcoveCommand(com_num, bid=bid, args=args)\n",
    "        \n",
    "    elif all_boards: # an all-boards commands\n",
    "        queen.alcoveCommand(com_num, all_boards=True, args=args)"
   ]
  },
  {
   "cell_type": "code",
   "execution_count": 3,
   "id": "6e370a8c-c12c-4511-be3a-31d3fd7b4215",
   "metadata": {},
   "outputs": [
    {
     "name": "stdout",
     "output_type": "stream",
     "text": [
      "==================================================\n",
      "queen commands available (command : name):\n",
      "20 : alcoveCommand\n",
      "21 : listenMode\n",
      "22 : testFunc1\n",
      "\n",
      "alcove commands available (command : name):\n",
      "10 : boardTemps\n",
      "12 : writeVnaComb\n",
      "13 : writeTestTone\n",
      "14 : getAdcData\n",
      "15 : test_function_1\n",
      "16 : getSnapData\n",
      "17 : vnaSweep\n",
      "==================================================\n"
     ]
    }
   ],
   "source": [
    "printCom()"
   ]
  },
  {
   "cell_type": "code",
   "execution_count": 4,
   "id": "431832b4-6f5a-4a71-9cfd-b6d1b7c61a2f",
   "metadata": {},
   "outputs": [
    {
     "name": "stdout",
     "output_type": "stream",
     "text": [
      "Connecting to Redis server... Done.\n",
      "Generating unique channel ID... Done.\n",
      "Publishing command 15 to board 1... Done.\n",
      "Listening for a response... Done.\n",
      "Processing response... arg1=None, arg2=None\n",
      "Done.\n"
     ]
    }
   ],
   "source": [
    "processCommand(com_num=15, bid=1)"
   ]
  },
  {
   "cell_type": "markdown",
   "id": "fc9954f8-54d1-4b2a-b0d8-6607a53dc472",
   "metadata": {},
   "source": [
    "# Widget Interface\n",
    "\n",
    "https://ipywidgets.readthedocs.io/en/stable/examples/Widget%20Basics.html\n",
    "\n",
    "https://ipywidgets.readthedocs.io/en/latest/\n",
    "\n",
    "https://ipywidgets.readthedocs.io/en/latest/examples/Widget%20List.html"
   ]
  },
  {
   "cell_type": "code",
   "execution_count": 21,
   "id": "d3d73116-db49-4011-a3f2-cf8915f5ece8",
   "metadata": {},
   "outputs": [
    {
     "data": {
      "application/vnd.jupyter.widget-view+json": {
       "model_id": "5fafb8d163df45709a70dd1317cf3dad",
       "version_major": 2,
       "version_minor": 0
      },
      "text/plain": [
       "IntText(value=1, description='bid:')"
      ]
     },
     "metadata": {},
     "output_type": "display_data"
    },
    {
     "data": {
      "application/vnd.jupyter.widget-view+json": {
       "model_id": "b84178bc721343a49c368f534bb363bc",
       "version_major": 2,
       "version_minor": 0
      },
      "text/plain": [
       "IntText(value=15, description='command:')"
      ]
     },
     "metadata": {},
     "output_type": "display_data"
    },
    {
     "data": {
      "application/vnd.jupyter.widget-view+json": {
       "model_id": "08ec75b8af8c45e286e77efbcbd0035a",
       "version_major": 2,
       "version_minor": 0
      },
      "text/plain": [
       "Button(description='Send Command', style=ButtonStyle(), tooltip='Click to execute command.')"
      ]
     },
     "metadata": {},
     "output_type": "display_data"
    },
    {
     "data": {
      "application/vnd.jupyter.widget-view+json": {
       "model_id": "b07923248d8041db8255acb1380644f5",
       "version_major": 2,
       "version_minor": 0
      },
      "text/plain": [
       "Output()"
      ]
     },
     "metadata": {},
     "output_type": "display_data"
    }
   ],
   "source": [
    "def simpleGUI():\n",
    "    output = widgets.Output()\n",
    "    \n",
    "    @output.capture()\n",
    "    def onClick(b):\n",
    "        print(f\"Sending command {com_num.value} to bid {bid.value}\")\n",
    "        processCommand(com_num=com_num.value, bid=bid.value)\n",
    "    \n",
    "    bid = widgets.IntText(\n",
    "        value=1,\n",
    "        description='bid:',\n",
    "        disabled=False\n",
    "    )\n",
    "    \n",
    "    com_num = widgets.IntText(\n",
    "        value=15,\n",
    "        description='command:',\n",
    "        disabled=False\n",
    "    )\n",
    "    \n",
    "    button = widgets.Button(\n",
    "        description='Send Command',\n",
    "        disabled=False,\n",
    "        button_style='', # 'success', 'info', 'warning', 'danger' or ''\n",
    "        tooltip='Click to execute command.',\n",
    "        # icon='check' # (FontAwesome names without the `fa-` prefix)\n",
    "    )\n",
    "    button.on_click(onClick)\n",
    "    \n",
    "    display(bid, com_num, button)\n",
    "    display(output)\n",
    "simpleGUI()"
   ]
  },
  {
   "cell_type": "code",
   "execution_count": null,
   "id": "f9ba304c-a7e9-4cf3-8254-615642894258",
   "metadata": {},
   "outputs": [],
   "source": []
  }
 ],
 "metadata": {
  "kernelspec": {
   "display_name": "py37",
   "language": "python",
   "name": "py37"
  },
  "language_info": {
   "codemirror_mode": {
    "name": "ipython",
    "version": 3
   },
   "file_extension": ".py",
   "mimetype": "text/x-python",
   "name": "python",
   "nbconvert_exporter": "python",
   "pygments_lexer": "ipython3",
   "version": "3.7.10"
  }
 },
 "nbformat": 4,
 "nbformat_minor": 5
}
