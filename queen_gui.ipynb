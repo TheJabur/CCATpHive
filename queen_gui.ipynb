{
 "cells": [
  {
   "cell_type": "markdown",
   "id": "0bd9b670-5b80-4a4d-8825-6c3ba4ab8851",
   "metadata": {},
   "source": [
    "<font size=\"+3\"><center>\n",
    "    CCATpHive Queen GUI Proof of Concept\n",
    "</center></font>\n",
    "\n",
    "<center><b>James Burgoyne</b></center>\n",
    "<center>jburgoyne@phas.ubc.ca</center>\n",
    "<center>August 2022</center>"
   ]
  },
  {
   "cell_type": "code",
   "execution_count": 1,
   "id": "87d99158-0ba9-43bf-8c88-2c5a588a8254",
   "metadata": {},
   "outputs": [
    {
     "name": "stdout",
     "output_type": "stream",
     "text": [
      "Error loading firmware: No module named 'xrfdc'\n"
     ]
    }
   ],
   "source": [
    "# note that changes to modules require a kernel restart to take effect\n",
    "\n",
    "import ipywidgets as widgets\n",
    "from IPython.display import display\n",
    "\n",
    "import queen\n",
    "import alcove"
   ]
  },
  {
   "cell_type": "markdown",
   "id": "2cd634ac-4554-45e1-87b0-2ae3a7d72ed3",
   "metadata": {},
   "source": [
    "# Queen Interface"
   ]
  },
  {
   "cell_type": "code",
   "execution_count": 2,
   "id": "5f0185f0-248c-487a-ad35-473d50cdebb6",
   "metadata": {},
   "outputs": [],
   "source": [
    "def printCom():\n",
    "    '''print available commands (from queen.py)'''\n",
    "\n",
    "    print(50*\"=\")\n",
    "    print(\"queen commands available (command : name):\")\n",
    "    for key in queen.com.keys():\n",
    "        print(f\"{key} : {queen.com[key].__name__}\")\n",
    "    print(\"\")\n",
    "    print(\"alcove commands available (command : name):\")\n",
    "    for key in alcove.com.keys():\n",
    "        print(f\"{key} : {alcove.com[key].__name__}\")\n",
    "    print(50*\"=\")\n",
    "\n",
    "def processCommand(com_num, bid=False, all_boards=False, queen_com=False, args=None):\n",
    "    '''Process a command for either: a single bid, all boards, or queen.\n",
    "    com_num: (int) Command number.\n",
    "    args:    (str) Command arguments.'''\n",
    "\n",
    "    if not com_num:  # no command given\n",
    "        print(f\"A command number (com_num) is required.\")\n",
    "    \n",
    "    elif queen_com:      # a queen command\n",
    "        queen.callCom(com_num, args=args)\n",
    "        \n",
    "    elif bid:        # a single board command\n",
    "        queen.alcoveCommand(com_num, bid=bid, args=args)\n",
    "        \n",
    "    elif all_boards: # an all-boards commands\n",
    "        queen.alcoveCommand(com_num, all_boards=True, args=args)"
   ]
  },
  {
   "cell_type": "code",
   "execution_count": 3,
   "id": "6e370a8c-c12c-4511-be3a-31d3fd7b4215",
   "metadata": {},
   "outputs": [
    {
     "name": "stdout",
     "output_type": "stream",
     "text": [
      "==================================================\n",
      "queen commands available (command : name):\n",
      "20 : alcoveCommand\n",
      "21 : listenMode\n",
      "22 : testFunc1\n",
      "\n",
      "alcove commands available (command : name):\n",
      "10 : boardTemps\n",
      "12 : writeVnaComb\n",
      "13 : writeTestTone\n",
      "14 : getAdcData\n",
      "15 : test_function_1\n",
      "16 : getSnapData\n",
      "17 : vnaSweep\n",
      "==================================================\n"
     ]
    }
   ],
   "source": [
    "printCom()"
   ]
  },
  {
   "cell_type": "markdown",
   "id": "fc9954f8-54d1-4b2a-b0d8-6607a53dc472",
   "metadata": {},
   "source": [
    "# Widget Interface\n",
    "\n",
    "https://ipywidgets.readthedocs.io/en/stable/examples/Widget%20Basics.html\n",
    "\n",
    "https://ipywidgets.readthedocs.io/en/latest/\n",
    "\n",
    "https://ipywidgets.readthedocs.io/en/latest/examples/Widget%20List.html"
   ]
  },
  {
   "cell_type": "code",
   "execution_count": 8,
   "id": "d3d73116-db49-4011-a3f2-cf8915f5ece8",
   "metadata": {},
   "outputs": [
    {
     "data": {
      "application/vnd.jupyter.widget-view+json": {
       "model_id": "1c47c9e8f8ee42fcb8d99012694bc088",
       "version_major": 2,
       "version_minor": 0
      },
      "text/plain": [
       "IntText(value=1, description='bid:')"
      ]
     },
     "metadata": {},
     "output_type": "display_data"
    },
    {
     "data": {
      "application/vnd.jupyter.widget-view+json": {
       "model_id": "f05aafc15a234931a486939966030de8",
       "version_major": 2,
       "version_minor": 0
      },
      "text/plain": [
       "IntText(value=15, description='command:')"
      ]
     },
     "metadata": {},
     "output_type": "display_data"
    },
    {
     "data": {
      "application/vnd.jupyter.widget-view+json": {
       "model_id": "bfca2ca976cc4a1889ed93225ed0bc78",
       "version_major": 2,
       "version_minor": 0
      },
      "text/plain": [
       "Text(value='', description='arg:')"
      ]
     },
     "metadata": {},
     "output_type": "display_data"
    },
    {
     "data": {
      "application/vnd.jupyter.widget-view+json": {
       "model_id": "9a8a047ce4f74065bf4cc243391ec2af",
       "version_major": 2,
       "version_minor": 0
      },
      "text/plain": [
       "Button(description='Send Command', style=ButtonStyle())"
      ]
     },
     "metadata": {},
     "output_type": "display_data"
    },
    {
     "data": {
      "application/vnd.jupyter.widget-view+json": {
       "model_id": "f354171e58b841e593379b8f1544a00d",
       "version_major": 2,
       "version_minor": 0
      },
      "text/plain": [
       "Output()"
      ]
     },
     "metadata": {},
     "output_type": "display_data"
    }
   ],
   "source": [
    "def simpleComGUI():\n",
    "    output = widgets.Output()\n",
    "    \n",
    "    @output.capture()\n",
    "    def onClick(b):\n",
    "        print(f\"Sending command {com_num.value} to bid {bid.value} with arg {arg.value}\")\n",
    "        processCommand(com_num=com_num.value, bid=bid.value, args=arg.value)\n",
    "    \n",
    "    bid = widgets.IntText(value=1, description='bid:')\n",
    "    com_num = widgets.IntText(value=15, description='command:')\n",
    "    arg = widgets.Text(description='arg:')\n",
    "    button = widgets.Button(description='Send Command')\n",
    "    button.on_click(onClick)\n",
    "    \n",
    "    display(bid, com_num, arg, button)\n",
    "    display(output)\n",
    "simpleComGUI()"
   ]
  },
  {
   "cell_type": "markdown",
   "id": "066a4684-79e4-440c-b7b5-b7dde1b2717f",
   "metadata": {},
   "source": [
    "**For testing:**\n",
    "\n",
    "Make sure the redis-server is running\n",
    "and the config has the correct IP or localhost.\n",
    "Make sure both _cfg_* files have the same IP as redis.\n",
    "Then fill in this:\n",
    "\n",
    "```\n",
    "bid:     1  \n",
    "command: 15  \n",
    "arg:     -arg1 600 -arg2 300\n",
    "```\n",
    "\n",
    "This will tell queen to send a redis command to execute the testing_function on the board with two arguments. Note that positional arguments also work, e.g. '600 300'."
   ]
  },
  {
   "cell_type": "code",
   "execution_count": null,
   "id": "18f1884e-0d74-4a6f-b5a6-67a727ceb32a",
   "metadata": {},
   "outputs": [],
   "source": []
  }
 ],
 "metadata": {
  "kernelspec": {
   "display_name": "py37",
   "language": "python",
   "name": "py37"
  },
  "language_info": {
   "codemirror_mode": {
    "name": "ipython",
    "version": 3
   },
   "file_extension": ".py",
   "mimetype": "text/x-python",
   "name": "python",
   "nbconvert_exporter": "python",
   "pygments_lexer": "ipython3",
   "version": "3.7.10"
  }
 },
 "nbformat": 4,
 "nbformat_minor": 5
}
