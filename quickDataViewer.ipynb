{
 "cells": [
  {
   "cell_type": "markdown",
   "id": "f474485d-26ac-4a45-9e6a-d2b3f87e1bbf",
   "metadata": {},
   "source": [
    "# Quick Data Viewer Notebook"
   ]
  },
  {
   "cell_type": "code",
   "execution_count": 9,
   "id": "0c810731-4667-473a-98d9-7764a813facf",
   "metadata": {},
   "outputs": [],
   "source": [
    "import numpy as np\n",
    "import matplotlib.pyplot as plt"
   ]
  },
  {
   "cell_type": "code",
   "execution_count": 6,
   "id": "3b537d1b-d45c-406e-913a-7aaa1d5b9a10",
   "metadata": {},
   "outputs": [],
   "source": [
    "# load numpy array data from a tmp file\n",
    "dat = np.load('tmp/tmpt3ryt5q1.npy')"
   ]
  },
  {
   "cell_type": "code",
   "execution_count": 7,
   "id": "b88d62f6-e1eb-49bb-a937-781209f925ff",
   "metadata": {},
   "outputs": [
    {
     "data": {
      "text/plain": [
       "array([[1, 2],\n",
       "       [3, 4]])"
      ]
     },
     "execution_count": 7,
     "metadata": {},
     "output_type": "execute_result"
    }
   ],
   "source": [
    "# look at the data\n",
    "dat"
   ]
  },
  {
   "cell_type": "code",
   "execution_count": 12,
   "id": "8e784b3a-f9aa-4b1f-8f64-feeb00fb308c",
   "metadata": {},
   "outputs": [
    {
     "data": {
      "image/png": "[encoded data removed]",
      "text/plain": [
       "<Figure size 432x288 with 2 Axes>"
      ]
     },
     "metadata": {
      "needs_background": "light"
     },
     "output_type": "display_data"
    }
   ],
   "source": [
    "# visualize data\n",
    "plt.imshow(dat)\n",
    "plt.colorbar()\n",
    "plt.show()"
   ]
  },
  {
   "cell_type": "code",
   "execution_count": null,
   "id": "dc4eedd7-8f3e-4e63-aa42-269e0a11da9a",
   "metadata": {},
   "outputs": [],
   "source": []
  }
 ],
 "metadata": {
  "kernelspec": {
   "display_name": "py38",
   "language": "python",
   "name": "py38"
  },
  "language_info": {
   "codemirror_mode": {
    "name": "ipython",
    "version": 3
   },
   "file_extension": ".py",
   "mimetype": "text/x-python",
   "name": "python",
   "nbconvert_exporter": "python",
   "pygments_lexer": "ipython3",
   "version": "3.8.13"
  }
 },
 "nbformat": 4,
 "nbformat_minor": 5
}
