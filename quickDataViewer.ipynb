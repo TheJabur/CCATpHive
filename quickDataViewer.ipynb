{
 "cells": [
  {
   "cell_type": "markdown",
   "id": "f474485d-26ac-4a45-9e6a-d2b3f87e1bbf",
   "metadata": {},
   "source": [
    "# Quick Data Viewer Notebook"
   ]
  },
  {
   "cell_type": "code",
   "execution_count": 23,
   "id": "0c810731-4667-473a-98d9-7764a813facf",
   "metadata": {},
   "outputs": [],
   "source": [
    "import os\n",
    "import glob\n",
    "import numpy as np\n",
    "import matplotlib.pyplot as plt"
   ]
  },
  {
   "cell_type": "code",
   "execution_count": 40,
   "id": "c5ffc500-6459-40cf-a57d-27a83dedbee3",
   "metadata": {},
   "outputs": [
    {
     "data": {
      "text/plain": [
       "array([[0, 0, 0, 0],\n",
       "       [0, 0, 0, 1],\n",
       "       [1, 0, 1, 0],\n",
       "       [0, 1, 0, 0]])"
      ]
     },
     "execution_count": 40,
     "metadata": {},
     "output_type": "execute_result"
    }
   ],
   "source": [
    "# list of files in tmp/ sorted by creation time\n",
    "tmpfnames = sorted(glob.iglob(os.path.join(os.getcwd()+'/tmp/', '*')), \n",
    "                   key=os.path.getctime, reverse=True) \n",
    "\n",
    "# latest file\n",
    "fname = tmpfnames[0]\n",
    "\n",
    "# assume numpy array and load\n",
    "dat = np.load(fname, allow_pickle=True)\n",
    "dat"
   ]
  },
  {
   "cell_type": "code",
   "execution_count": 42,
   "id": "8e784b3a-f9aa-4b1f-8f64-feeb00fb308c",
   "metadata": {},
   "outputs": [
    {
     "data": {
      "image/png": "[encoded data removed]",
      "text/plain": [
       "<Figure size 432x288 with 2 Axes>"
      ]
     },
     "metadata": {
      "needs_background": "light"
     },
     "output_type": "display_data"
    }
   ],
   "source": [
    "# visualize data\n",
    "plt.imshow(dat)\n",
    "plt.colorbar()\n",
    "plt.show()"
   ]
  },
  {
   "cell_type": "code",
   "execution_count": null,
   "id": "dc4eedd7-8f3e-4e63-aa42-269e0a11da9a",
   "metadata": {},
   "outputs": [],
   "source": []
  }
 ],
 "metadata": {
  "kernelspec": {
   "display_name": "py38",
   "language": "python",
   "name": "py38"
  },
  "language_info": {
   "codemirror_mode": {
    "name": "ipython",
    "version": 3
   },
   "file_extension": ".py",
   "mimetype": "text/x-python",
   "name": "python",
   "nbconvert_exporter": "python",
   "pygments_lexer": "ipython3",
   "version": "3.8.13"
  }
 },
 "nbformat": 4,
 "nbformat_minor": 5
}
